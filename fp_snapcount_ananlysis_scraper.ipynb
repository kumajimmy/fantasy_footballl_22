{
 "cells": [
  {
   "cell_type": "code",
   "execution_count": 14,
   "metadata": {},
   "outputs": [],
   "source": [
    "import requests\n",
    "from bs4 import BeautifulSoup as bs\n",
    "import pandas as pd\n",
    "import numpy as np"
   ]
  },
  {
   "cell_type": "code",
   "execution_count": 37,
   "metadata": {},
   "outputs": [],
   "source": [
    "pd.set_option('display.max_columns', None)\n",
    "\n",
    "URL = 'https://www.fantasypros.com/nfl/reports/snap-count-analysis/{pos}.php'\n",
    "\n",
    "pos_arr = ['qb', 'wr', 'rb', 'te']\n",
    "\n",
    "season_df = pd.DataFrame()\n",
    "\n",
    "for pos in pos_arr:\n",
    "    res = requests.get(URL.format(pos=pos))\n",
    "    soup = bs(res.content, 'html.parser')\n",
    "    table = soup.find('table', {'id': 'data'})\n",
    "    df = pd.read_html(str(table))[0]\n",
    "\n",
    "    df['FPPerSnap'] = df['Fantasy Pts']/df['Snaps']\n",
    "    df['TeamSnaps'] = (df['Snaps']/(df['Snap %']*0.01))\n",
    "    df['Pos'] = pos.upper()\n",
    "    \n",
    "    df = df.rename(columns={\n",
    "        'Player':'Name',\n",
    "        'Games':'G',\n",
    "        'Snap %': 'Snap%',\n",
    "        'Snaps/Gm':'Per Game',\n",
    "        'Rush %':'RushPerc',\n",
    "        'Tgt %':'TargetP',\n",
    "        'Touch %': 'TouchPerc',\n",
    "        'Fantasy Pts':'FP'})\n",
    "    df.drop(columns=['Util %', 'Pts/100 Snaps'], inplace=True)\n",
    "    df = df.reindex(columns=[\n",
    "        'Pos', 'Team', 'Name', 'G', 'Snaps', 'TeamSnaps', 'Snap%', 'RushPerc',\\\n",
    "            'TargetP', 'TouchPerc', 'FP', 'FPPerSnap' \n",
    "            ])\n",
    "    \n",
    "    season_df = pd.concat([season_df, df])"
   ]
  },
  {
   "cell_type": "code",
   "execution_count": 39,
   "metadata": {},
   "outputs": [],
   "source": [
    "season_df.to_csv('/Users/brandynklee/Python_Projects/fantasy_footballl_22/data/snapcount_fp_2021.csv', index=False)"
   ]
  }
 ],
 "metadata": {
  "kernelspec": {
   "display_name": "Python 3.9.5 ('venv': venv)",
   "language": "python",
   "name": "python3"
  },
  "language_info": {
   "codemirror_mode": {
    "name": "ipython",
    "version": 3
   },
   "file_extension": ".py",
   "mimetype": "text/x-python",
   "name": "python",
   "nbconvert_exporter": "python",
   "pygments_lexer": "ipython3",
   "version": "3.9.5"
  },
  "orig_nbformat": 4,
  "vscode": {
   "interpreter": {
    "hash": "cf25544fa1d5141fe43b49aa75ba068d8181e0427dd77ba9668beac83de3ec62"
   }
  }
 },
 "nbformat": 4,
 "nbformat_minor": 2
}
