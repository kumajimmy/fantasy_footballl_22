{
 "cells": [
  {
   "cell_type": "code",
   "execution_count": 1,
   "metadata": {},
   "outputs": [],
   "source": [
    "import requests\n",
    "from bs4 import BeautifulSoup as bs\n",
    "import pandas as pd\n",
    "import numpy as np"
   ]
  },
  {
   "cell_type": "code",
   "execution_count": 2,
   "metadata": {},
   "outputs": [],
   "source": [
    "pd.set_option('display.max_columns', None)\n",
    "\n",
    "URL = 'https://www.pro-football-reference.com/teams/{team}/2021-snap-counts.htm'\n",
    "\n",
    "team_arr = ['crd', 'atl', 'rav', 'buf', 'car', 'chi', 'cin', 'cle', 'dal', 'den', 'det', 'gnb', 'htx', 'clt', 'jax',\\\n",
    "    'kan', 'rai', 'sdg', 'ram', 'mia', 'min', 'nwe', 'nor', 'nyg', 'nyj', 'phi', 'pit', 'sfo', 'sea', 'tam', 'oti', 'was' ]\n",
    "\n",
    "season_df = pd.DataFrame()\n",
    "\n",
    "\n",
    "for team in team_arr:\n",
    "    res = requests.get(URL.format(team=team))\n",
    "    soup = bs(res.content, 'html.parser')\n",
    "    table = soup.find('table', {'id': 'snap_counts'})\n",
    "    df = pd.read_html(str(table))[0]\n",
    "    df.columns = df.columns.droplevel(level=0)\n",
    "\n",
    "    df = df.iloc[:, :4]\n",
    "    off_skill_pos = ['QB', 'RB', 'WR', 'TE', 'FB']\n",
    "    df= df.loc[df['Pos'].isin(off_skill_pos)]\n",
    "    df['Pos'].mask(df['Pos'] == 'FB', 'RB', inplace=True)\n",
    "    df = df.rename(columns={\n",
    "    'Player':'Name',\n",
    "    'Num': 'Snaps',\n",
    "    'Pct': 'Snap%'\n",
    "    })\n",
    "    df['Team'] = team\n",
    "    df = df.reindex(columns=[\n",
    "    'Pos','Team','Name','Snaps','Snap%'\n",
    "    ])\n",
    "\n",
    "    df['Snap%'] = df['Snap%'].str.rstrip('%')\n",
    "    df['Snap%'] = pd.to_numeric(df['Snap%'], errors='coerce')\n",
    "\n",
    "\n",
    "    team_snap_total = ((df['Snaps'][0].astype('float')*100)//df['Snap%'][0])\n",
    "    df['TeamSnaps'] = team_snap_total\n",
    "\n",
    "    season_df = pd.concat([season_df,df])\n",
    "\n",
    "\n",
    "\n",
    "\n"
   ]
  },
  {
   "cell_type": "code",
   "execution_count": 113,
   "metadata": {},
   "outputs": [],
   "source": [
    "season_df.to_csv('/Users/brandynklee/Python_Projects/fantasy_footballl_22/data/snapcount_2021.csv', index=False)"
   ]
  }
 ],
 "metadata": {
  "kernelspec": {
   "display_name": "Python 3.9.5 ('venv': venv)",
   "language": "python",
   "name": "python3"
  },
  "language_info": {
   "codemirror_mode": {
    "name": "ipython",
    "version": 3
   },
   "file_extension": ".py",
   "mimetype": "text/x-python",
   "name": "python",
   "nbconvert_exporter": "python",
   "pygments_lexer": "ipython3",
   "version": "3.9.5"
  },
  "orig_nbformat": 4,
  "vscode": {
   "interpreter": {
    "hash": "cf25544fa1d5141fe43b49aa75ba068d8181e0427dd77ba9668beac83de3ec62"
   }
  }
 },
 "nbformat": 4,
 "nbformat_minor": 2
}
