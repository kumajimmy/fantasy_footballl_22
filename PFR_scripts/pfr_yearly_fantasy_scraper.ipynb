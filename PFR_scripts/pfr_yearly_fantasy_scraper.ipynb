{
 "cells": [
  {
   "cell_type": "code",
   "execution_count": null,
   "metadata": {},
   "outputs": [],
   "source": [
    "import requests\n",
    "from bs4 import BeautifulSoup as bs\n",
    "import pandas as pd\n",
    "\n",
    "pd.set_option('display.max_columns', None)\n",
    "\n",
    "URL = 'https://www.pro-football-reference.com/years/2021/fantasy.htm'\n",
    "\n",
    "res = requests.get(URL)\n",
    "soup = BS(res.content, 'html.parser')\n",
    "table = soup.find('table', {'id': 'fantasy'})\n",
    "df = pd.read_html(str(table))[0]\n",
    "df.columns = df.columns.droplevel(level=0)\n",
    "\n",
    "#removing filler rows (ie row above Jonathan Taylor or row below Joe Burrow)\n",
    "df = df.loc[df['Player'] != 'Player']\n",
    "\n",
    "#fixing player names that have astericks\n",
    "df['Player'] = df['Player'].apply(lambda x: x.split('*')[0].strip())\n",
    "\n",
    "#Column names:\n",
    "#Player,Tm,Pos,Age,G,GS,Tgt,Rec,PassingYds,PassingTD,PassingAtt,RushingYds,\n",
    "#RushingTD,RushingAtt,ReceivingYds,ReceivingTD,FantasyPoints,Int,Fumbles,FumblesLost\n",
    "\n",
    "df['PassingYds'] = df['Yds'].iloc[:, 0]\n",
    "df['RushingYds'] = df['Yds'].iloc[:, 1]\n",
    "df['ReceivingYds'] = df['Yds'].iloc[:, 2]\n",
    "\n",
    "df['PassingTD'] = df['TD'].iloc[:, 0]\n",
    "df['RushingTD'] = df['TD'].iloc[:, 1]\n",
    "df['ReceivingTD'] = df['TD'].iloc[:, 2]\n",
    "\n",
    "df['PassingAtt'] = df['Att'].iloc[:, 0]\n",
    "df['RushingAtt'] = df['Att'].iloc[:, 1]\n",
    "\n",
    "df = df.rename(columns={\n",
    "    'FantPos': 'Pos', 'FantPt': 'FantasyPoints', 'Fmb': 'Fumbles', 'FL': 'FumblesLost'\n",
    "})\n",
    "\n",
    "df = df[[\n",
    "    'Player','Tm','Pos','Age','G','GS','Tgt','Rec','PassingYds','PassingTD','PassingAtt',\n",
    "    'RushingYds','RushingTD','RushingAtt','ReceivingYds','ReceivingTD','FantasyPoints',\n",
    "    'Int','Fumbles','FumblesLost'\n",
    "]]\n",
    "\n",
    "print(df.shape)\n",
    "df.head()"
   ]
  }
 ],
 "metadata": {
  "language_info": {
   "name": "python"
  },
  "orig_nbformat": 4
 },
 "nbformat": 4,
 "nbformat_minor": 2
}
